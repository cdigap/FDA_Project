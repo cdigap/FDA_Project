{
 "cells": [
  {
   "cell_type": "markdown",
   "metadata": {},
   "source": [
    "# The Box Plot.\n",
    "\n",
    "There are many explainations about Box plot the below one mentioned is what I like it is short, crisp and to the point.\n",
    "\n",
    "A Box Plot is the visual representation of the statistical five number summary of a given data set.\n",
    "\n",
    "A Five Number Summary includes:\n",
    "\n",
    "1. Minimum\n",
    "2. First Quartile\n",
    "3. Median (Second Quartile)\n",
    "4. Third Quartile\n",
    "5. Maximum\n",
    "\n",
    "The Box plots are also known as “Box and Whisker Plot”. John Turkey, A Mathematician Introduced “Box and Whisker Plot” in 1969 as part of his toolkit for exploratory data analysis (Tukey, 1970), but it did not become widely known until formal publication (Tukey, 1977). “Box plots use robust summary statistics that are always located at actual data points, are quickly computable (originally by hand), and have no tuning parameters. They are particularly useful for comparing distributions across groups.” said Hardley Wickham."
   ]
  },
  {
   "cell_type": "code",
   "execution_count": null,
   "metadata": {
    "collapsed": true
   },
   "outputs": [],
   "source": []
  },
  {
   "cell_type": "code",
   "execution_count": null,
   "metadata": {
    "collapsed": true
   },
   "outputs": [],
   "source": []
  },
  {
   "cell_type": "code",
   "execution_count": null,
   "metadata": {
    "collapsed": true
   },
   "outputs": [],
   "source": []
  },
  {
   "cell_type": "markdown",
   "metadata": {},
   "source": [
    "## Reference:\n",
    "1. https://chartio.com/resources/tutorials/what-is-a-box-plot/\n"
   ]
  }
 ],
 "metadata": {
  "kernelspec": {
   "display_name": "Python 3",
   "language": "python",
   "name": "python3"
  },
  "language_info": {
   "codemirror_mode": {
    "name": "ipython",
    "version": 3
   },
   "file_extension": ".py",
   "mimetype": "text/x-python",
   "name": "python",
   "nbconvert_exporter": "python",
   "pygments_lexer": "ipython3",
   "version": "3.6.3"
  }
 },
 "nbformat": 4,
 "nbformat_minor": 2
}
